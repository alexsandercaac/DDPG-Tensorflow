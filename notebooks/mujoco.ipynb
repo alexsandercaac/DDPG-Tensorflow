{
  "cells": [
    {
      "cell_type": "markdown",
      "metadata": {
        "id": "MpkYHwCqk7W-"
      },
      "source": [
        "![MuJoCo banner](https://raw.githubusercontent.com/deepmind/mujoco/main/banner.png)\n",
        "\n",
        "# <h1><center>Tutorial  <a href=\"https://colab.research.google.com/github/deepmind/mujoco/blob/main/python/tutorial.ipynb\"><img src=\"https://colab.research.google.com/assets/colab-badge.svg\" width=\"140\" align=\"center\"/></a></center></h1>\n",
        "\n",
        "This notebook provides an introductory tutorial for [**MuJoCo** physics](https://github.com/deepmind/mujoco#readme), using the native Python bindings.\n",
        "\n",
        "**A Colab runtime with GPU acceleration is required.** If you're using a CPU-only runtime, you can switch using the menu \"Runtime > Change runtime type\".\n",
        "\n",
        "\n",
        "\n",
        "\n",
        "\n",
        "\n",
        "\n",
        "\n"
      ]
    },
    {
      "cell_type": "markdown",
      "metadata": {
        "id": "xBSdkbmGN2K-"
      },
      "source": [
        "### Copyright notice"
      ]
    },
    {
      "cell_type": "markdown",
      "metadata": {
        "id": "_UbO9uhtBSX5"
      },
      "source": [
        "> <p><small><small>Copyright 2022 DeepMind Technologies Limited.</small></p>\n",
        "> <p><small><small>Licensed under the Apache License, Version 2.0 (the \"License\"); you may not use this file except in compliance with the License. You may obtain a copy of the License at <a href=\"http://www.apache.org/licenses/LICENSE-2.0\">http://www.apache.org/licenses/LICENSE-2.0</a>.</small></small></p>\n",
        "> <p><small><small>Unless required by applicable law or agreed to in writing, software distributed under the License is distributed on an \"AS IS\" BASIS, WITHOUT WARRANTIES OR CONDITIONS OF ANY KIND, either express or implied. See the License for the specific language governing permissions and limitations under the License.</small></small></p>"
      ]
    },
    {
      "cell_type": "markdown",
      "metadata": {
        "id": "YvyGCsgSCxHQ"
      },
      "source": [
        "# Install MuJoCo"
      ]
    },
    {
      "cell_type": "code",
      "execution_count": 1,
      "metadata": {
        "cellView": "form",
        "id": "IbZxYDxzoz5R"
      },
      "outputs": [
        {
          "name": "stderr",
          "output_type": "stream",
          "text": [
            "/tmp/ipykernel_12397/2036328546.py:2: DeprecationWarning: The distutils package is deprecated and slated for removal in Python 3.12. Use setuptools or check PEP 632 for potential alternatives\n",
            "  import distutils.util\n"
          ]
        },
        {
          "name": "stdout",
          "output_type": "stream",
          "text": [
            "Fri Dec 23 23:49:09 2022       \n",
            "+-----------------------------------------------------------------------------+\n",
            "| NVIDIA-SMI 515.65.01    Driver Version: 515.65.01    CUDA Version: 11.7     |\n",
            "|-------------------------------+----------------------+----------------------+\n",
            "| GPU  Name        Persistence-M| Bus-Id        Disp.A | Volatile Uncorr. ECC |\n",
            "| Fan  Temp  Perf  Pwr:Usage/Cap|         Memory-Usage | GPU-Util  Compute M. |\n",
            "|                               |                      |               MIG M. |\n",
            "|===============================+======================+======================|\n",
            "|   0  NVIDIA GeForce ...  On   | 00000000:01:00.0 Off |                  N/A |\n",
            "| N/A   46C    P0    15W /  N/A |      5MiB /  4096MiB |      0%      Default |\n",
            "|                               |                      |                  N/A |\n",
            "+-------------------------------+----------------------+----------------------+\n",
            "                                                                               \n",
            "+-----------------------------------------------------------------------------+\n",
            "| Processes:                                                                  |\n",
            "|  GPU   GI   CI        PID   Type   Process name                  GPU Memory |\n",
            "|        ID   ID                                                   Usage      |\n",
            "|=============================================================================|\n",
            "|    0   N/A  N/A      1100      G   /usr/lib/xorg/Xorg                  4MiB |\n",
            "+-----------------------------------------------------------------------------+\n",
            "Setting environment variable to use GPU rendering:\n",
            "env: MUJOCO_GL=egl\n",
            "Checking that the installation succeeded:\n",
            "Installation successful.\n"
          ]
        }
      ],
      "source": [
        "#@title Check if installation was successful\n",
        "import distutils.util\n",
        "import subprocess\n",
        "if subprocess.run('nvidia-smi').returncode:\n",
        "  raise RuntimeError(\n",
        "      'Cannot communicate with GPU. '\n",
        "      'Make sure you are using a GPU Colab runtime. '\n",
        "      'Go to the Runtime menu and select Choose runtime type.')\n",
        "# Configure MuJoCo to use the EGL rendering backend (requires GPU)\n",
        "print('Setting environment variable to use GPU rendering:')\n",
        "%env MUJOCO_GL=egl\n",
        "\n",
        "try:\n",
        "  print('Checking that the installation succeeded:')\n",
        "  import mujoco\n",
        "  mujoco.MjModel.from_xml_string('<mujoco/>')\n",
        "except Exception as e:\n",
        "  raise e from RuntimeError(\n",
        "      'Something went wrong during installation. Check the shell output above '\n",
        "      'for more information.\\n'\n",
        "      'If using a hosted Colab runtime, make sure you enable GPU acceleration '\n",
        "      'by going to the Runtime menu and selecting \"Choose runtime type\".')\n",
        "\n",
        "print('Installation successful.')"
      ]
    },
    {
      "cell_type": "code",
      "execution_count": 2,
      "metadata": {
        "cellView": "form",
        "id": "T5f4w3Kq2X14"
      },
      "outputs": [
        {
          "name": "stdout",
          "output_type": "stream",
          "text": [
            "Installing mediapy:\n"
          ]
        }
      ],
      "source": [
        "#@title Import packages for plotting and creating graphics\n",
        "import time\n",
        "import itertools\n",
        "import numpy as np\n",
        "from typing import Callable, NamedTuple, Optional, Union, List\n",
        "\n",
        "# Graphics and plotting.\n",
        "print('Installing mediapy:')\n",
        "import mediapy as media\n",
        "import matplotlib.pyplot as plt\n",
        "\n",
        "# More legible printing from numpy.\n",
        "np.set_printoptions(precision=3, suppress=True, linewidth=100)"
      ]
    },
    {
      "cell_type": "markdown",
      "metadata": {
        "id": "t0CF6Gvkt_Cw"
      },
      "source": [
        "# MuJoCo basics\n",
        "\n",
        "We begin by defining and loading a simple model:"
      ]
    },
    {
      "cell_type": "code",
      "execution_count": 3,
      "metadata": {
        "id": "3KJVqak6xdJa"
      },
      "outputs": [],
      "source": [
        "xml = \"\"\"\n",
        "<mujoco>\n",
        "  <worldbody>\n",
        "    <geom name=\"red_box\" type=\"box\" size=\".2 .2 .2\" rgba=\"1 0 0 1\"/>\n",
        "    <geom name=\"green_sphere\" pos=\".2 .2 .2\" size=\".1\" rgba=\"0 1 0 1\"/>\n",
        "  </worldbody>\n",
        "</mujoco>\n",
        "\"\"\"\n",
        "model = mujoco.MjModel.from_xml_string(xml)"
      ]
    },
    {
      "cell_type": "markdown",
      "metadata": {
        "id": "slhf39lGxvDI"
      },
      "source": [
        "The `xml` string is written in MuJoCo's [MJCF](http://www.mujoco.org/book/modeling.html), which is an [XML](https://en.wikipedia.org/wiki/XML#Key_terminology)-based modeling language.\n",
        "  - The only required element is `<mujoco>`. The smallest valid MJCF model is `<mujoco/>` which is a completely empty model.\n",
        "  - All physical elements live inside the `<worldbody>` which is always the top-level body and constitutes the global origin in Cartesian coordinates.\n",
        "  - We define two geoms in the world named `red_box` and `green_sphere`.\n",
        "  - **Question:** The `red_box` has no position, the `green_sphere` has no type, why is that?\n",
        "    - **Answer:** MJCF attributes have *default values*. The default position is `0 0 0`, the default geom type is `sphere`. The MJCF language is described in the documentation's [XML Reference chapter](https://mujoco.readthedocs.io/en/latest/XMLreference.html).\n",
        "\n",
        "The `from_xml_string()` method invokes the model compiler, which creates a binary `mjModel` instance."
      ]
    },
    {
      "cell_type": "markdown",
      "metadata": {
        "id": "gf9h_wi9weet"
      },
      "source": [
        "## mjModel\n",
        "\n",
        "MuJoCo's `mjModel`, contains the *model description*, i.e., all quantities which *do not change over time*. The complete description of `mjModel` can be found at the end of the header file [`mjmodel.h`](https://github.com/deepmind/mujoco/blob/main/include/mujoco/mjmodel.h). Note that the header files contain short, useful inline comments, describing each field.\n",
        "\n",
        "Examples of quantities that can be found in `mjModel` are `ngeom`, the number of geoms in the scene and `geom_rgba`, their respective colors:"
      ]
    },
    {
      "cell_type": "code",
      "execution_count": 4,
      "metadata": {
        "id": "F40Pe6DY3Q0g"
      },
      "outputs": [
        {
          "data": {
            "text/plain": [
              "2"
            ]
          },
          "execution_count": 4,
          "metadata": {},
          "output_type": "execute_result"
        }
      ],
      "source": [
        "model.ngeom"
      ]
    },
    {
      "cell_type": "code",
      "execution_count": 5,
      "metadata": {
        "id": "MOIJG9pzx8cA"
      },
      "outputs": [
        {
          "data": {
            "text/plain": [
              "array([[1., 0., 0., 1.],\n",
              "       [0., 1., 0., 1.]], dtype=float32)"
            ]
          },
          "execution_count": 5,
          "metadata": {},
          "output_type": "execute_result"
        }
      ],
      "source": [
        "model.geom_rgba"
      ]
    },
    {
      "cell_type": "markdown",
      "metadata": {
        "id": "bzcLjdY23Kvp"
      },
      "source": [
        "## Named access\n",
        "\n",
        "The MuJoCo Python bindings provide convenient [accessors](https://mujoco.readthedocs.io/en/latest/python.html#named-access) using names. Calling the `model.geom()` accessor without a name string generates a convenient error that tells us what the valid names are."
      ]
    },
    {
      "cell_type": "code",
      "execution_count": 6,
      "metadata": {
        "id": "9AuTwbLFyJxQ"
      },
      "outputs": [
        {
          "name": "stdout",
          "output_type": "stream",
          "text": [
            "\"Invalid name ''. Valid names: ['green_sphere', 'red_box']\"\n"
          ]
        }
      ],
      "source": [
        "try:\n",
        "  model.geom()\n",
        "except KeyError as e:\n",
        "  print(e)"
      ]
    },
    {
      "cell_type": "markdown",
      "metadata": {
        "id": "qkfLK3h2zrqr"
      },
      "source": [
        "Calling the named accessor without specifying a property will tell us what all the valid properties are:"
      ]
    },
    {
      "cell_type": "code",
      "execution_count": 7,
      "metadata": {
        "id": "9X95TlWnyEEw"
      },
      "outputs": [
        {
          "data": {
            "text/plain": [
              "<_MjModelGeomViews\n",
              "  bodyid: array([0], dtype=int32)\n",
              "  conaffinity: array([1], dtype=int32)\n",
              "  condim: array([3], dtype=int32)\n",
              "  contype: array([1], dtype=int32)\n",
              "  dataid: array([-1], dtype=int32)\n",
              "  friction: array([1.   , 0.005, 0.   ])\n",
              "  gap: array([0.])\n",
              "  group: array([0], dtype=int32)\n",
              "  id: 1\n",
              "  margin: array([0.])\n",
              "  matid: array([-1], dtype=int32)\n",
              "  name: 'green_sphere'\n",
              "  pos: array([0.2, 0.2, 0.2])\n",
              "  priority: array([0], dtype=int32)\n",
              "  quat: array([1., 0., 0., 0.])\n",
              "  rbound: array([0.1])\n",
              "  rgba: array([0., 1., 0., 1.], dtype=float32)\n",
              "  sameframe: array([0], dtype=uint8)\n",
              "  size: array([0.1, 0. , 0. ])\n",
              "  solimp: array([0.9  , 0.95 , 0.001, 0.5  , 2.   ])\n",
              "  solmix: array([1.])\n",
              "  solref: array([0.02, 1.  ])\n",
              "  type: array([2], dtype=int32)\n",
              "  user: array([], dtype=float64)\n",
              ">"
            ]
          },
          "execution_count": 7,
          "metadata": {},
          "output_type": "execute_result"
        }
      ],
      "source": [
        "model.geom('green_sphere')"
      ]
    },
    {
      "cell_type": "markdown",
      "metadata": {
        "id": "mS9qDLevKsJq"
      },
      "source": [
        "Let's read the `green_sphere`'s rgba values:"
      ]
    },
    {
      "cell_type": "code",
      "execution_count": 8,
      "metadata": {
        "id": "xsBlJAV7zpHb"
      },
      "outputs": [
        {
          "data": {
            "text/plain": [
              "array([0., 1., 0., 1.], dtype=float32)"
            ]
          },
          "execution_count": 8,
          "metadata": {},
          "output_type": "execute_result"
        }
      ],
      "source": [
        "model.geom('green_sphere').rgba"
      ]
    },
    {
      "cell_type": "markdown",
      "metadata": {
        "id": "8a8hswjjKyIa"
      },
      "source": [
        "This functionality is a convenience shortcut for MuJoCo's [`mj_name2id`](https://mujoco.readthedocs.io/en/latest/APIreference.html?highlight=mj_name2id#mj-name2id) function:"
      ]
    },
    {
      "cell_type": "code",
      "execution_count": 9,
      "metadata": {
        "id": "Ng92hNUoKnVq"
      },
      "outputs": [
        {
          "data": {
            "text/plain": [
              "array([0., 1., 0., 1.], dtype=float32)"
            ]
          },
          "execution_count": 9,
          "metadata": {},
          "output_type": "execute_result"
        }
      ],
      "source": [
        "id = mujoco.mj_name2id(model, mujoco.mjtObj.mjOBJ_GEOM, 'green_sphere')\n",
        "model.geom_rgba[id, :]"
      ]
    },
    {
      "cell_type": "markdown",
      "metadata": {
        "id": "5WL_SaJPLl3r"
      },
      "source": [
        "Similarly, the read-only `id` and `name` properties can be used to convert from id to name and back:"
      ]
    },
    {
      "cell_type": "code",
      "execution_count": null,
      "metadata": {
        "id": "2CbGSmRZeE5p"
      },
      "outputs": [],
      "source": [
        "print('id of \"green_sphere\": ', model.geom('green_sphere').id)\n",
        "print('name of geom 1: ', model.geom(1).name)\n",
        "print('name of body 0: ', model.body(0).name)"
      ]
    },
    {
      "cell_type": "markdown",
      "metadata": {
        "id": "3RIizubaL_du"
      },
      "source": [
        "Note that the 0th body is always the `world`. It cannot be renamed.\n",
        "\n",
        "The `id` and `name` attributes are useful in Python comprehensions:"
      ]
    },
    {
      "cell_type": "code",
      "execution_count": 10,
      "metadata": {
        "id": "m3MtIE5F1K7s"
      },
      "outputs": [
        {
          "data": {
            "text/plain": [
              "['red_box', 'green_sphere']"
            ]
          },
          "execution_count": 10,
          "metadata": {},
          "output_type": "execute_result"
        }
      ],
      "source": [
        "[model.geom(i).name for i in range(model.ngeom)]"
      ]
    },
    {
      "cell_type": "markdown",
      "metadata": {
        "id": "t5hY0fyXFLcf"
      },
      "source": [
        "## `mjData`\n",
        "`mjData` contains the *state* and quantities that depend on it. The state is made up of time, [generalized](https://en.wikipedia.org/wiki/Generalized_coordinates) positions and generalized velocities. These are respectively `data.time`, `data.qpos` and `data.qvel`. In order to make a new `mjData`, all we need is our `mjModel`"
      ]
    },
    {
      "cell_type": "code",
      "execution_count": 12,
      "metadata": {
        "id": "FV2Hy6m948nr"
      },
      "outputs": [],
      "source": [
        "data = mujoco.MjData(model)"
      ]
    },
    {
      "cell_type": "markdown",
      "metadata": {
        "id": "-KmNuvlJ46u0"
      },
      "source": [
        "`mjData` also contains *functions of the state*, for example the Cartesian positions of objects in the world frame. The (x, y, z) positions of our two geoms are in `data.geom_xpos`:"
      ]
    },
    {
      "cell_type": "code",
      "execution_count": 13,
      "metadata": {
        "id": "CPwDcAQ0-uUE"
      },
      "outputs": [
        {
          "name": "stdout",
          "output_type": "stream",
          "text": [
            "[[0. 0. 0.]\n",
            " [0. 0. 0.]]\n"
          ]
        }
      ],
      "source": [
        "print(data.geom_xpos)"
      ]
    },
    {
      "cell_type": "markdown",
      "metadata": {
        "id": "Sjst5xGXX3sr"
      },
      "source": [
        "Wait, why are both of our geoms at the origin? Didn't we offset the green sphere? The answer is that derived quantities in `mjData` need to be explicitly propagated (see [below](#scrollTo=QY1gpms1HXeN)). In our case, the minimal required function is [`mj_kinematics`](https://mujoco.readthedocs.io/en/latest/APIreference.html#mj-kinematics), which computes global Cartesian poses for all objects (excluding cameras and lights)."
      ]
    },
    {
      "cell_type": "code",
      "execution_count": 14,
      "metadata": {
        "id": "tfe0YeZRYNTr"
      },
      "outputs": [
        {
          "name": "stdout",
          "output_type": "stream",
          "text": [
            "raw access:\n",
            " [[0.  0.  0. ]\n",
            " [0.2 0.2 0.2]]\n",
            "\n",
            "named access:\n",
            " [0.2 0.2 0.2]\n"
          ]
        }
      ],
      "source": [
        "mujoco.mj_kinematics(model, data)\n",
        "print('raw access:\\n', data.geom_xpos)\n",
        "\n",
        "# MjData also supports named access:\n",
        "print('\\nnamed access:\\n', data.geom('green_sphere').xpos)"
      ]
    },
    {
      "cell_type": "markdown",
      "metadata": {
        "id": "eU7uWNsTwmcZ"
      },
      "source": [
        "# Basic rendering, simulation, and animation\n",
        "\n",
        "In order to render we'll need to instantiate a `Renderer` object and call its `render` method.\n",
        "\n",
        "We'll also reload our model to make the colab's sections independent."
      ]
    },
    {
      "cell_type": "code",
      "execution_count": 15,
      "metadata": {
        "id": "xK3c0-UDxMrN"
      },
      "outputs": [
        {
          "data": {
            "text/html": [
              "<table class=\"show_images\" style=\"border-spacing:0px;\"><tr><td style=\"padding:1px;\"><img width=\"320\" height=\"240\" style=\"image-rendering:pixelated; object-fit:cover;\" src=\"data:image/png;base64,iVBORw0KGgoAAAANSUhEUgAAAUAAAADwCAIAAAD+Tyo8AAAA9UlEQVR4nO3BAQEAAACCIP+vbkhAAQAAAAAAAAAAAAAAAAAAAAAAAAAAAAAAAAAAAAAAAAAAAAAAAAAAAAAAAAAAAAAAAAAAAAAAAAAAAAAAAAAAAAAAAAAAAAAAAAAAAAAAAAAAAAAAAAAAAAAAAAAAAAAAAAAAAAAAAAAAAAAAAAAAAAAAAAAAAAAAAAAAAAAAAAAAAAAAAAAAAAAAAAAAAAAAAAAAAAAAAAAAAAAAAAAAAAAAAAAAAAAAAAAAAAAAAAAAAAAAAAAAAAAAAAAAAAAAAAAAAAAAAAAAAAAAAAAAAAAAAAAAAAAAAAAAAAAAAPBohR0AAXbPpmUAAAAASUVORK5CYII=\"/></td></tr></table>"
            ],
            "text/plain": [
              "<IPython.core.display.HTML object>"
            ]
          },
          "metadata": {},
          "output_type": "display_data"
        }
      ],
      "source": [
        "xml = \"\"\"\n",
        "<mujoco>\n",
        "  <worldbody>\n",
        "    <geom name=\"red_box\" type=\"box\" size=\".2 .2 .2\" rgba=\"1 0 0 1\"/>\n",
        "    <geom name=\"green_sphere\" pos=\".2 .2 .2\" size=\".1\" rgba=\"0 1 0 1\"/>\n",
        "  </worldbody>\n",
        "</mujoco>\n",
        "\"\"\"\n",
        "# Make model and data\n",
        "model = mujoco.MjModel.from_xml_string(xml)\n",
        "data = mujoco.MjData(model)\n",
        "\n",
        "# Make renderer, render and show the pixels\n",
        "renderer = mujoco.Renderer(model)\n",
        "media.show_image(renderer.render())"
      ]
    },
    {
      "cell_type": "markdown",
      "metadata": {
        "id": "ZkFSHeYGxlT5"
      },
      "source": [
        "Hmmm, why the black pixels?\n",
        "\n",
        "**Answer:** For the same reason as above, we first need to propagate the values in `mjData`. This time we'll call [`mj_forward`](https://mujoco.readthedocs.io/en/latest/APIreference.html#mj-forward), which invokes the entire pipeline up to the computation of accelerations i.e., it computes $\\dot x = f(x)$, where $x$ is the state. This function does more than we actually need, but unless we care about saving computation time, it's good practice to call `mj_forward` since then we know we are not missing anything.\n",
        "\n",
        "We also need to update the `mjvScene` which is an object held by the renderer describing the visual scene. We'll later see that the scene can include visual objects which are not part of the physical model."
      ]
    },
    {
      "cell_type": "code",
      "execution_count": 16,
      "metadata": {
        "id": "pvh47r97huS4"
      },
      "outputs": [
        {
          "data": {
            "text/html": [
              "<table class=\"show_images\" style=\"border-spacing:0px;\"><tr><td style=\"padding:1px;\"><img width=\"320\" height=\"240\" style=\"image-rendering:pixelated; object-fit:cover;\" src=\"data:image/png;base64,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\"/></td></tr></table>"
            ],
            "text/plain": [
              "<IPython.core.display.HTML object>"
            ]
          },
          "metadata": {},
          "output_type": "display_data"
        }
      ],
      "source": [
        "mujoco.mj_forward(model, data)\n",
        "renderer.update_scene(data)\n",
        "\n",
        "media.show_image(renderer.render())"
      ]
    },
    {
      "cell_type": "markdown",
      "metadata": {
        "id": "6oDW1dOUifw6"
      },
      "source": [
        "This worked, but this image is a bit dark. Let's add a light and re-render."
      ]
    },
    {
      "cell_type": "code",
      "execution_count": 17,
      "metadata": {
        "id": "iqzJj2NIr_2V"
      },
      "outputs": [
        {
          "data": {
            "text/html": [
              "<table class=\"show_images\" style=\"border-spacing:0px;\"><tr><td style=\"padding:1px;\"><img width=\"320\" height=\"240\" style=\"image-rendering:pixelated; object-fit:cover;\" src=\"data:image/png;base64,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\"/></td></tr></table>"
            ],
            "text/plain": [
              "<IPython.core.display.HTML object>"
            ]
          },
          "metadata": {},
          "output_type": "display_data"
        }
      ],
      "source": [
        "xml = \"\"\"\n",
        "<mujoco>\n",
        "  <worldbody>\n",
        "    <light name=\"top\" pos=\"0 0 1\"/>\n",
        "    <geom name=\"red_box\" type=\"box\" size=\".2 .2 .2\" rgba=\"1 0 0 1\"/>\n",
        "    <geom name=\"green_sphere\" pos=\".2 .2 .2\" size=\".1\" rgba=\"0 1 0 1\"/>\n",
        "  </worldbody>\n",
        "</mujoco>\n",
        "\"\"\"\n",
        "model = mujoco.MjModel.from_xml_string(xml)\n",
        "data = mujoco.MjData(model)\n",
        "renderer = mujoco.Renderer(model)\n",
        "\n",
        "mujoco.mj_forward(model, data)\n",
        "renderer.update_scene(data)\n",
        "\n",
        "media.show_image(renderer.render())"
      ]
    },
    {
      "cell_type": "markdown",
      "metadata": {
        "id": "HS4K38Eirww9"
      },
      "source": [
        "Much better!\n",
        "\n",
        "Note that all values in the `mjModel` instance are writable. While it's generally not recommended to do this but rather to change the values in the XML, because it's easy to make an invalid model, some values are safe to write into, for example colors:"
      ]
    },
    {
      "cell_type": "code",
      "execution_count": 18,
      "metadata": {
        "id": "GBNcQVYJrt2h"
      },
      "outputs": [
        {
          "data": {
            "text/html": [
              "<table class=\"show_images\" style=\"border-spacing:0px;\"><tr><td style=\"padding:1px;\"><img width=\"320\" height=\"240\" style=\"image-rendering:pixelated; object-fit:cover;\" src=\"data:image/png;base64,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\"/></td></tr></table>"
            ],
            "text/plain": [
              "<IPython.core.display.HTML object>"
            ]
          },
          "metadata": {},
          "output_type": "display_data"
        }
      ],
      "source": [
        "# Run this cell multiple times for different colors\n",
        "model.geom('red_box').rgba[:3] = np.random.rand(3)\n",
        "renderer.update_scene(data)\n",
        "media.show_image(renderer.render())"
      ]
    },
    {
      "cell_type": "markdown",
      "metadata": {
        "id": "-P95E-QHizQq"
      },
      "source": [
        "# Simulation\n",
        "\n",
        "Now let's simulate and make a video. We'll use MuJoCo's main high level function `mj_step`, which steps the state $x_{t+h} = f(x_t)$.\n",
        "\n",
        "Note that in the code block below we are *not* rendering after each call to `mj_step`. This is because the default timestep is 2ms, and we want a 60fps video, not 500fps."
      ]
    },
    {
      "cell_type": "code",
      "execution_count": 19,
      "metadata": {
        "id": "NdVnHOYisiKl"
      },
      "outputs": [
        {
          "data": {
            "text/html": [
              "<table class=\"show_videos\" style=\"border-spacing:0px;\"><tr><td style=\"padding:1px;\"><video controls width=\"320\" height=\"240\" style=\"object-fit:cover;\" loop autoplay>\n",
              "      <source src=\"data:video/mp4;base64,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\" type=\"video/mp4\"/>\n",
              "      This browser does not support the video tag.\n",
              "      </video></td></tr></table>"
            ],
            "text/plain": [
              "<IPython.core.display.HTML object>"
            ]
          },
          "metadata": {},
          "output_type": "display_data"
        }
      ],
      "source": [
        "duration = 3.8  # (seconds)\n",
        "framerate = 60  # (Hz)\n",
        "\n",
        "# Simulate and display video.\n",
        "frames = []\n",
        "mujoco.mj_resetData(model, data)  # Reset state and time.\n",
        "while data.time < duration:\n",
        "  mujoco.mj_step(model, data)\n",
        "  if len(frames) < data.time * framerate:\n",
        "    renderer.update_scene(data)\n",
        "    pixels = renderer.render().copy()\n",
        "    frames.append(pixels)\n",
        "media.show_video(frames, fps=framerate)"
      ]
    },
    {
      "cell_type": "markdown",
      "metadata": {
        "id": "tYN4sL9RnsCU"
      },
      "source": [
        "Hmmm, the video is playing, but nothing is moving, why is that?\n",
        "\n",
        "This is because this model has no [degrees of freedom](https://www.google.com/url?sa=D&q=https%3A%2F%2Fen.wikipedia.org%2Fwiki%2FDegrees_of_freedom_(mechanics)) (DoFs). The things that move (and which have inertia) are called *bodies*. We add DoFs by adding *joints* to bodies, specifying how they can move with respect to their parents. Let's make a new body that contains our geoms, add a hinge joint and re-render, while visualizing the joint axis using the visualization option object `MjvOption`."
      ]
    },
    {
      "cell_type": "code",
      "execution_count": 20,
      "metadata": {
        "id": "LbWf84VYst5m"
      },
      "outputs": [
        {
          "data": {
            "text/html": [
              "<table class=\"show_videos\" style=\"border-spacing:0px;\"><tr><td style=\"padding:1px;\"><video controls width=\"320\" height=\"240\" style=\"object-fit:cover;\" loop autoplay>\n",
              "      <source src=\"data:video/mp4;base64,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\" type=\"video/mp4\"/>\n",
              "      This browser does not support the video tag.\n",
              "      </video></td></tr></table>"
            ],
            "text/plain": [
              "<IPython.core.display.HTML object>"
            ]
          },
          "metadata": {},
          "output_type": "display_data"
        }
      ],
      "source": [
        "xml = \"\"\"\n",
        "<mujoco>\n",
        "  <worldbody>\n",
        "    <light name=\"top\" pos=\"0 0 1\"/>\n",
        "    <body name=\"box_and_sphere\" euler=\"0 0 -30\">\n",
        "      <joint name=\"swing\" type=\"hinge\" axis=\"1 -1 0\" pos=\"-.2 -.2 -.2\"/>\n",
        "      <geom name=\"red_box\" type=\"box\" size=\".2 .2 .2\" rgba=\"1 0 0 1\"/>\n",
        "      <geom name=\"green_sphere\" pos=\".2 .2 .2\" size=\".1\" rgba=\"0 1 0 1\"/>\n",
        "    </body>\n",
        "  </worldbody>\n",
        "</mujoco>\n",
        "\"\"\"\n",
        "model = mujoco.MjModel.from_xml_string(xml)\n",
        "data = mujoco.MjData(model)\n",
        "renderer = mujoco.Renderer(model)\n",
        "\n",
        "# enable joint visualization option:\n",
        "scene_option = mujoco.MjvOption()\n",
        "scene_option.flags[mujoco.mjtVisFlag.mjVIS_JOINT] = True\n",
        "\n",
        "duration = 3.8  # (seconds)\n",
        "framerate = 60  # (Hz)\n",
        "\n",
        "frames = []\n",
        "mujoco.mj_resetData(model, data)\n",
        "while data.time < duration:\n",
        "  mujoco.mj_step(model, data)\n",
        "  if len(frames) < data.time * framerate:\n",
        "    renderer.update_scene(data, scene_option=scene_option)\n",
        "    pixels = renderer.render().copy()\n",
        "    frames.append(pixels)\n",
        "\n",
        "# Simulate and display video.\n",
        "media.show_video(frames, fps=framerate)"
      ]
    },
    {
      "cell_type": "markdown",
      "metadata": {
        "id": "Ymv-tvWCpl6V"
      },
      "source": [
        "Note that we rotated the `box_and_sphere` body by 30° around the Z (vertical) axis, with the directive `euler=\"0 0 -30\"`. This was made to emphasize that the poses of elements in the [kinematic tree](https://www.google.com/url?sa=D&q=https%3A%2F%2Fen.wikipedia.org%2Fwiki%2FKinematic_chain) are always with respect to their *parent body*, so our two geoms were also rotated by this transformation.\n",
        "\n",
        "Physics options live in `mjModel.opt`, for example the timestep:"
      ]
    },
    {
      "cell_type": "code",
      "execution_count": null,
      "metadata": {
        "id": "5yvAJokcpyX_"
      },
      "outputs": [],
      "source": [
        "model.opt.timestep"
      ]
    },
    {
      "cell_type": "markdown",
      "metadata": {
        "id": "SdkwLeGUp9B2"
      },
      "source": [
        "Let's flip gravity and re-render:"
      ]
    },
    {
      "cell_type": "code",
      "execution_count": null,
      "metadata": {
        "id": "ocjPQG8Dp2F-"
      },
      "outputs": [],
      "source": [
        "print('default gravity', model.opt.gravity)\n",
        "model.opt.gravity = (0, 0, 10)\n",
        "print('flipped gravity', model.opt.gravity)\n",
        "\n",
        "frames = []\n",
        "mujoco.mj_resetData(model, data)\n",
        "while data.time < duration:\n",
        "  mujoco.mj_step(model, data)\n",
        "  if len(frames) < data.time * framerate:\n",
        "    renderer.update_scene(data, scene_option=scene_option)\n",
        "    pixels = renderer.render().copy()\n",
        "    frames.append(pixels)\n",
        "\n",
        "media.show_video(frames, fps=60)"
      ]
    },
    {
      "cell_type": "markdown",
      "metadata": {
        "id": "FsxDDgXBqg_J"
      },
      "source": [
        "We could also have done this in XML using the top-level `<option>` element:\n",
        "```xml\n",
        "<mujoco>\n",
        "  <option gravity=\"0 0 10\"/>\n",
        "  ...\n",
        "</mujoco>\n",
        "```"
      ]
    },
    {
      "cell_type": "markdown",
      "metadata": {
        "id": "QY1gpms1HXeN"
      },
      "source": [
        "### Understanding Degrees of Freedom\n",
        "\n",
        "In the real world, all rigid objects have 6 degrees-of-freedom: 3 translations and 3 rotations. Real-world joints act as constraints, removing relative degrees-of-freedom from bodies connected by joints. Some physics simulation software use this representation which is known as the \"Cartesian\" or \"subtractive\" representation, but it is inefficient. MuJoCo uses a representation known as the \"Lagrangian\", \"generalized\" or \"additive\" representation, whereby objects have no degrees of freedom unless explicitly added using joints.\n",
        "\n",
        "Our model, which has a single hinge joint, has one degree of freedom, and the entire state is defined by this joint's angle and angular velocity. These are the system's generalized position and velocity."
      ]
    },
    {
      "cell_type": "code",
      "execution_count": null,
      "metadata": {
        "id": "wEdfGEfSKAOC"
      },
      "outputs": [],
      "source": [
        "print('Total number of DoFs in the model:', model.nv)\n",
        "print('Generalized positions:', data.qpos)\n",
        "print('Generalized velocities:', data.qvel)"
      ]
    },
    {
      "cell_type": "markdown",
      "metadata": {
        "id": "Z8E-P5xONUSn"
      },
      "source": [
        "MuJoCo's use of generalized coordinates is the reason that calling a function (e.g. [`mj_forward`](https://mujoco.readthedocs.io/en/latest/APIreference.html#mj-forward)) is required before rendering or reading the global poses of objects – Cartesian positions are *derived* from the generalized positions and need to be explicitly computed."
      ]
    },
    {
      "cell_type": "markdown",
      "metadata": {
        "id": "SHppAOjvSupc"
      },
      "source": [
        "# Example: Simulating free bodies with the self-inverting \"tippe-top\"\n",
        "\n",
        "A free body is a body with a [free joint](https://www.google.com/url?sa=D&q=https%3A%2F%2Fmujoco.readthedocs.io%2Fen%2Flatest%2FXMLreference.html%3Fhighlight%3Dfreejoint%23body-freejoint) having 6 DoFs, i.e., 3 translations and 3 rotations. We could give our `box_and_sphere` body a free joint and watch it fall, but let's look at something more interesting. A \"tippe top\" is a spinning toy which flips itself ([video](https://www.youtube.com/watch?v=kbYpVrdcszQ), [Wikipedia](https://en.wikipedia.org/wiki/Tippe_top)). We model it as follows:"
      ]
    },
    {
      "cell_type": "code",
      "execution_count": null,
      "metadata": {
        "id": "xasXQpVMjIwA"
      },
      "outputs": [],
      "source": [
        "tippe_top = \"\"\"\n",
        "<mujoco model=\"tippe top\">\n",
        "  <option integrator=\"RK4\"/>\n",
        "\n",
        "  <asset>\n",
        "    <texture name=\"grid\" type=\"2d\" builtin=\"checker\" rgb1=\".1 .2 .3\"\n",
        "     rgb2=\".2 .3 .4\" width=\"300\" height=\"300\"/>\n",
        "    <material name=\"grid\" texture=\"grid\" texrepeat=\"8 8\" reflectance=\".2\"/>\n",
        "  </asset>\n",
        "\n",
        "  <worldbody>\n",
        "    <geom size=\".2 .2 .01\" type=\"plane\" material=\"grid\"/>\n",
        "    <light pos=\"0 0 .6\"/>\n",
        "    <camera name=\"closeup\" pos=\"0 -.1 .07\" xyaxes=\"1 0 0 0 1 2\"/>\n",
        "    <body name=\"top\" pos=\"0 0 .02\">\n",
        "      <freejoint/>\n",
        "      <geom name=\"ball\" type=\"sphere\" size=\".02\" />\n",
        "      <geom name=\"stem\" type=\"cylinder\" pos=\"0 0 .02\" size=\"0.004 .008\"/>\n",
        "      <geom name=\"ballast\" type=\"box\" size=\".023 .023 0.005\"  pos=\"0 0 -.015\"\n",
        "       contype=\"0\" conaffinity=\"0\" group=\"3\"/>\n",
        "    </body>\n",
        "  </worldbody>\n",
        "\n",
        "  <keyframe>\n",
        "    <key name=\"spinning\" qpos=\"0 0 0.02 1 0 0 0\" qvel=\"0 0 0 0 1 200\" />\n",
        "  </keyframe>\n",
        "</mujoco>\n",
        "\"\"\"\n",
        "model = mujoco.MjModel.from_xml_string(tippe_top)\n",
        "renderer = mujoco.Renderer(model)\n",
        "data = mujoco.MjData(model)\n",
        "mujoco.mj_forward(model, data)\n",
        "renderer.update_scene(data, camera=\"closeup\")\n",
        "media.show_image(renderer.render())"
      ]
    },
    {
      "cell_type": "markdown",
      "metadata": {
        "id": "bvHlr6maJYIG"
      },
      "source": [
        "Note several new features of this model definition:\n",
        "1. A 6-DoF free joint is added with the `<freejoint/>` clause.\n",
        "2. We use the `<option/>` clause to set the integrator to the 4th order [Runge Kutta](https://en.wikipedia.org/wiki/Runge%E2%80%93Kutta_methods). Runge-Kutta has a higher rate of convergence than the default Euler integrator, which in many cases increases the accuracy at a given timestep size.\n",
        "3. We define the floor's grid material inside the `<asset/>` clause and reference it in the `\"floor\"` geom.\n",
        "4. We use an invisible and non-colliding box geom called `ballast` to move the top's center-of-mass lower. Having a low center of mass is (counter-intuitively) required for the flipping behavior to occur.\n",
        "5. We save our initial spinning state as a *keyframe*. It has a high rotational velocity around the Z-axis, but is not perfectly oriented with the world, which introduces the symmetry-breaking required for the flipping.\n",
        "6. We define a `<camera>` in our model, and then render from it using the `camera` argument to `update_scene()`.\n",
        "Let us examine the state:\n"
      ]
    },
    {
      "cell_type": "code",
      "execution_count": null,
      "metadata": {
        "id": "o4S9nYhHOKmb"
      },
      "outputs": [],
      "source": [
        "print('positions', data.qpos)\n",
        "print('velocities', data.qvel)"
      ]
    },
    {
      "cell_type": "markdown",
      "metadata": {
        "id": "71UgzBAqWdtZ"
      },
      "source": [
        "The velocities are easy to interpret, 6 zeros, one for each DoF. What about the length 7 positions? We can see the initial 2cm height of the body; the subsequent four numbers are the 3D orientation, defined by a *unit quaternion*. 3D orientations are represented with **4** numbers while angular velocities are **3** numbers. For more information see the Wikipedia article on [quaternions and spatial rotation](https://en.wikipedia.org/wiki/Quaternions_and_spatial_rotation).\n",
        "\n",
        "Let's make a video:"
      ]
    },
    {
      "cell_type": "code",
      "execution_count": null,
      "metadata": {
        "id": "5P4HkhKNGQvs"
      },
      "outputs": [],
      "source": [
        "duration = 7    # (seconds)\n",
        "framerate = 60  # (Hz)\n",
        "\n",
        "# Simulate and display video.\n",
        "frames = []\n",
        "mujoco.mj_resetDataKeyframe(model, data, 0)  # Reset the state to keyframe 0\n",
        "while data.time < duration:\n",
        "  mujoco.mj_step(model, data)\n",
        "  if len(frames) < data.time * framerate:\n",
        "    renderer.update_scene(data, \"closeup\")\n",
        "    pixels = renderer.render().copy()\n",
        "    frames.append(pixels)\n",
        "\n",
        "media.show_video(frames, fps=framerate)"
      ]
    },
    {
      "cell_type": "markdown",
      "metadata": {
        "id": "rRuFKD2ubPgu"
      },
      "source": [
        "### Measuring values from `mjData`\n",
        "As mentioned above, the `mjData` structure contains the dynamic variables and intermediate results produced by the simulation which are *expected to change* on each timestep. Below we simulate for 2000 timesteps and plot the angular velocity of the top and height of the stem as a function of time."
      ]
    },
    {
      "cell_type": "code",
      "execution_count": null,
      "metadata": {
        "id": "1XXB6asJoZ2N"
      },
      "outputs": [],
      "source": [
        "timevals = []\n",
        "angular_velocity = []\n",
        "stem_height = []\n",
        "\n",
        "# Simulate and save data\n",
        "mujoco.mj_resetDataKeyframe(model, data, 0)\n",
        "while data.time < duration:\n",
        "  mujoco.mj_step(model, data)\n",
        "  timevals.append(data.time)\n",
        "  angular_velocity.append(data.qvel[3:6].copy())\n",
        "  stem_height.append(data.geom_xpos[2,2]);\n",
        "\n",
        "dpi = 120\n",
        "width = 600\n",
        "height = 800\n",
        "figsize = (width / dpi, height / dpi)\n",
        "_, ax = plt.subplots(2, 1, figsize=figsize, dpi=dpi, sharex=True)\n",
        "\n",
        "ax[0].plot(timevals, angular_velocity)\n",
        "ax[0].set_title('angular velocity')\n",
        "ax[0].set_ylabel('radians / second')\n",
        "\n",
        "ax[1].plot(timevals, stem_height)\n",
        "ax[1].set_xlabel('time (seconds)')\n",
        "ax[1].set_ylabel('meters')\n",
        "_ = ax[1].set_title('stem height')"
      ]
    },
    {
      "cell_type": "markdown",
      "metadata": {
        "id": "u_zN8vATwcGy"
      },
      "source": [
        "# Example: A chaotic pendulum"
      ]
    },
    {
      "cell_type": "markdown",
      "metadata": {
        "id": "g1MKUEL_eSCM"
      },
      "source": [
        "Below is a model of a chaotic pendulum, similar to [this one](https://www.exploratorium.edu/exhibits/chaotic-pendulum) in the San Francisco Exploratorium. "
      ]
    },
    {
      "cell_type": "code",
      "execution_count": null,
      "metadata": {
        "id": "3jHYTV-bwfrS"
      },
      "outputs": [],
      "source": [
        "chaotic_pendulum = \"\"\"\n",
        "<mujoco>\n",
        "  <option timestep=\".001\">\n",
        "    <flag energy=\"enable\" contact=\"disable\"/>\n",
        "  </option>\n",
        "\n",
        "  <default>\n",
        "    <joint type=\"hinge\" axis=\"0 -1 0\"/>\n",
        "    <geom type=\"capsule\" size=\".02\"/>\n",
        "  </default>\n",
        "\n",
        "  <worldbody>\n",
        "    <light pos=\"0 -.4 1\"/>\n",
        "    <camera name=\"fixed\" pos=\"0 -1 0\" xyaxes=\"1 0 0 0 0 1\"/>\n",
        "    <body name=\"0\" pos=\"0 0 .2\">\n",
        "      <joint name=\"root\"/>\n",
        "      <geom fromto=\"-.2 0 0 .2 0 0\" rgba=\"1 1 0 1\"/>\n",
        "      <geom fromto=\"0 0 0 0 0 -.25\" rgba=\"1 1 0 1\"/>\n",
        "      <body name=\"1\" pos=\"-.2 0 0\">\n",
        "        <joint/>\n",
        "        <geom fromto=\"0 0 0 0 0 -.2\" rgba=\"1 0 0 1\"/>\n",
        "      </body>\n",
        "      <body name=\"2\" pos=\".2 0 0\">\n",
        "        <joint/>\n",
        "        <geom fromto=\"0 0 0 0 0 -.2\" rgba=\"0 1 0 1\"/>\n",
        "      </body>\n",
        "      <body name=\"3\" pos=\"0 0 -.25\">\n",
        "        <joint/>\n",
        "        <geom fromto=\"0 0 0 0 0 -.2\" rgba=\"0 0 1 1\"/>\n",
        "      </body>\n",
        "    </body>\n",
        "  </worldbody>\n",
        "</mujoco>\n",
        "\"\"\"\n",
        "model = mujoco.MjModel.from_xml_string(chaotic_pendulum)\n",
        "renderer = mujoco.Renderer(model, 480, 640)\n",
        "data = mujoco.MjData(model)\n",
        "mujoco.mj_forward(model, data)\n",
        "renderer.update_scene(data, camera=\"fixed\")\n",
        "media.show_image(renderer.render())"
      ]
    },
    {
      "cell_type": "markdown",
      "metadata": {
        "id": "EKZrTBSS5f49"
      },
      "source": [
        "## Timing\n",
        "Let's see a video of it in action while we time the components:"
      ]
    },
    {
      "cell_type": "code",
      "execution_count": null,
      "metadata": {
        "id": "-kNWvE9dNwYW"
      },
      "outputs": [],
      "source": [
        "# setup\n",
        "n_seconds = 6\n",
        "framerate = 30  # Hz\n",
        "n_frames = int(n_seconds * framerate)\n",
        "frames = []\n",
        "renderer = mujoco.Renderer(model, 240, 320)\n",
        "\n",
        "\n",
        "# set initial state\n",
        "mujoco.mj_resetData(model, data)\n",
        "data.joint('root').qvel = 10\n",
        "\n",
        "\n",
        "# simulate and record frames\n",
        "frame = 0\n",
        "sim_time = 0\n",
        "render_time = 0\n",
        "n_steps = 0\n",
        "for i in range(n_frames):\n",
        "  while data.time * framerate < i:\n",
        "    tic = time.time()\n",
        "    mujoco.mj_step(model, data)\n",
        "    sim_time += time.time() - tic\n",
        "    n_steps += 1\n",
        "  tic = time.time()\n",
        "  renderer.update_scene(data, \"fixed\")\n",
        "  frame = renderer.render()\n",
        "  render_time += time.time() - tic\n",
        "  frames.append(frame.copy())\n",
        "\n",
        "# print timing and play video\n",
        "step_time = 1e6*sim_time/n_steps\n",
        "step_fps = n_steps/sim_time\n",
        "print(f'simulation: {step_time:5.3g} μs/step  ({step_fps:5.0f}Hz)')\n",
        "frame_time = 1e6*render_time/n_frames\n",
        "frame_fps = n_frames/render_time\n",
        "print(f'rendering:  {frame_time:5.3g} μs/frame ({frame_fps:5.0f}Hz)')\n",
        "print('\\n')\n",
        "\n",
        "# show video\n",
        "media.show_video(frames, fps=framerate)"
      ]
    },
    {
      "cell_type": "markdown",
      "metadata": {
        "id": "Iqi_m8HT-X5k"
      },
      "source": [
        "Note that rendering is **much** slower than the simulated physics.\n",
        "\n",
        "## Chaos\n",
        "This is a [chaotic](https://en.wikipedia.org/wiki/Chaos_theory) system (small pertubations in initial conditions accumulate quickly):"
      ]
    },
    {
      "cell_type": "code",
      "execution_count": null,
      "metadata": {
        "id": "Pa_19EfvOzzg"
      },
      "outputs": [],
      "source": [
        "PERTURBATION = 1e-7\n",
        "SIM_DURATION = 10 # seconds\n",
        "NUM_REPEATS = 8\n",
        "\n",
        "# preallocate\n",
        "n_steps = int(SIM_DURATION / model.opt.timestep)\n",
        "sim_time = np.zeros(n_steps)\n",
        "angle = np.zeros(n_steps)\n",
        "energy = np.zeros(n_steps)\n",
        "\n",
        "# prepare plotting axes\n",
        "_, ax = plt.subplots(2, 1, figsize=(8, 6), sharex=True)\n",
        "\n",
        "# simulate NUM_REPEATS times with slightly different initial conditions\n",
        "for _ in range(NUM_REPEATS):\n",
        "  # initialize\n",
        "  mujoco.mj_resetData(model, data)\n",
        "  data.qvel[0] = 10 # root joint velocity\n",
        "  # perturb initial velocities\n",
        "  data.qvel[:] += PERTURBATION * np.random.randn(model.nv)\n",
        "\n",
        "  # simulate\n",
        "  for i in range(n_steps):\n",
        "    mujoco.mj_step(model, data)\n",
        "    sim_time[i] = data.time\n",
        "    angle[i] = data.joint('root').qpos\n",
        "    energy[i] = data.energy[0] + data.energy[1]\n",
        "\n",
        "  # plot\n",
        "  ax[0].plot(sim_time, angle)\n",
        "  ax[1].plot(sim_time, energy)\n",
        "\n",
        "# finalize plot\n",
        "ax[0].set_title('root angle')\n",
        "ax[0].set_ylabel('radian')\n",
        "ax[1].set_title('total energy')\n",
        "ax[1].set_ylabel('Joule')\n",
        "ax[1].set_xlabel('second')\n",
        "plt.tight_layout()"
      ]
    },
    {
      "cell_type": "markdown",
      "metadata": {
        "id": "daSIA_ewFGxV"
      },
      "source": [
        "## Timestep and accuracy\n",
        "**Question:** Why is the energy varying at all? There is no friction or damping, this system should conserve energy.\n",
        "\n",
        "**Answer:** Because of the discretization of time.\n",
        "\n",
        "If we decrease the timestep we'll get better accuracy and better energy conservation:"
      ]
    },
    {
      "cell_type": "code",
      "execution_count": null,
      "metadata": {
        "id": "4z-7KN_fFme-"
      },
      "outputs": [],
      "source": [
        "SIM_DURATION = 10 # (seconds)\n",
        "TIMESTEPS = np.power(10, np.linspace(-2, -4, 5))\n",
        "\n",
        "# prepare plotting axes\n",
        "_, ax = plt.subplots(1, 1)\n",
        "\n",
        "for dt in TIMESTEPS:\n",
        "   # set timestep, print\n",
        "  model.opt.timestep = dt\n",
        "\n",
        "  # allocate\n",
        "  n_steps = int(SIM_DURATION / model.opt.timestep)\n",
        "  sim_time = np.zeros(n_steps)\n",
        "  energy = np.zeros(n_steps)\n",
        "\n",
        "  # initialize\n",
        "  mujoco.mj_resetData(model, data)\n",
        "  data.qvel[0] = 9 # root joint velocity\n",
        "\n",
        "  # simulate\n",
        "  print('{} steps at dt = {:2.2g}ms'.format(n_steps, 1000*dt))\n",
        "  for i in range(n_steps):\n",
        "    mujoco.mj_step(model, data)\n",
        "    sim_time[i] = data.time\n",
        "    energy[i] = data.energy[0] + data.energy[1]\n",
        "\n",
        "  # plot\n",
        "  ax.plot(sim_time, energy, label='timestep = {:2.2g}ms'.format(1000*dt))\n",
        "\n",
        "# finalize plot\n",
        "ax.set_title('energy')\n",
        "ax.set_ylabel('Joule')\n",
        "ax.set_xlabel('second')\n",
        "ax.legend(frameon=True);\n",
        "plt.tight_layout()"
      ]
    },
    {
      "cell_type": "markdown",
      "metadata": {
        "id": "jsVkUm7QKb9I"
      },
      "source": [
        "## Timestep and divergence\n",
        "When we increase the time step, the simulation quickly diverges:"
      ]
    },
    {
      "cell_type": "code",
      "execution_count": null,
      "metadata": {
        "id": "FbdUA4zDPbDP"
      },
      "outputs": [],
      "source": [
        "SIM_DURATION = 10 # (seconds)\n",
        "TIMESTEPS = np.power(10, np.linspace(-2, -1.5, 7))\n",
        "\n",
        "# get plotting axes\n",
        "ax = plt.gca()\n",
        "\n",
        "for dt in TIMESTEPS:\n",
        "  # set timestep\n",
        "  model.opt.timestep = dt\n",
        "\n",
        "  # allocate\n",
        "  n_steps = int(SIM_DURATION / model.opt.timestep)\n",
        "  sim_time = np.zeros(n_steps)\n",
        "  energy = np.zeros(n_steps) * np.nan\n",
        "  speed = np.zeros(n_steps) * np.nan\n",
        "\n",
        "  # initialize\n",
        "  mujoco.mj_resetData(model, data)\n",
        "  data.qvel[0] = 11 # set root joint velocity\n",
        "\n",
        "  # simulate\n",
        "  print('simulating {} steps at dt = {:2.2g}ms'.format(n_steps, 1000*dt))\n",
        "  for i in range(n_steps):\n",
        "    mujoco.mj_step(model, data)\n",
        "    if data.warning.number.any():\n",
        "      warning_index = np.nonzero(data.warning.number)[0]\n",
        "      warning = mujoco.mjtWarning(warning_index).name\n",
        "      print(f'stopped due to divergence ({warning}) at timestep {i}.\\n')\n",
        "      break\n",
        "    sim_time[i] = data.time\n",
        "    energy[i] = sum(abs(data.qvel))\n",
        "    speed[i] = np.linalg.norm(data.qvel)\n",
        "\n",
        "  # plot\n",
        "  ax.plot(sim_time, energy, label='timestep = {:2.2g}ms'.format(1000*dt))\n",
        "  ax.set_yscale('log')\n",
        "\n",
        "\n",
        "# finalize plot\n",
        "ax.set_ybound(1, 1e3)\n",
        "ax.set_title('energy')\n",
        "ax.set_ylabel('Joule')\n",
        "ax.set_xlabel('second')\n",
        "ax.legend(frameon=True, loc='lower right');\n",
        "plt.tight_layout()\n"
      ]
    },
    {
      "cell_type": "markdown",
      "metadata": {
        "id": "FITYfGyy3XPL"
      },
      "source": [
        "# Contacts\n",
        "\n",
        "Let's go back to our box and sphere example and give it a free joint:"
      ]
    },
    {
      "cell_type": "code",
      "execution_count": null,
      "metadata": {
        "id": "2n1VNVv_FkbB"
      },
      "outputs": [],
      "source": [
        "free_body_MJCF = \"\"\"\n",
        "<mujoco>\n",
        "  <asset>\n",
        "    <texture name=\"grid\" type=\"2d\" builtin=\"checker\" rgb1=\".1 .2 .3\" \n",
        "    rgb2=\".2 .3 .4\" width=\"300\" height=\"300\" mark=\"edge\" markrgb=\".2 .3 .4\"/>\n",
        "    <material name=\"grid\" texture=\"grid\" texrepeat=\"2 2\" texuniform=\"true\"\n",
        "    reflectance=\".2\"/>\n",
        "  </asset>\n",
        "\n",
        "  <worldbody>\n",
        "    <light pos=\"0 0 1\" mode=\"trackcom\"/>\n",
        "    <geom name=\"ground\" type=\"plane\" pos=\"0 0 -.5\" size=\"2 2 .1\" material=\"grid\" solimp=\".99 .99 .01\" solref=\".001 1\"/>\n",
        "    <body name=\"box_and_sphere\" pos=\"0 0 0\">\n",
        "      <freejoint/>\n",
        "      <geom name=\"red_box\" type=\"box\" size=\".1 .1 .1\" rgba=\"1 0 0 1\" solimp=\".99 .99 .01\"  solref=\".001 1\"/>\n",
        "      <geom name=\"green_sphere\" size=\".06\" pos=\".1 .1 .1\" rgba=\"0 1 0 1\"/>\n",
        "      <camera name=\"fixed\" pos=\"0 -.6 .3\" xyaxes=\"1 0 0 0 1 2\"/>\n",
        "      <camera name=\"track\" pos=\"0 -.6 .3\" xyaxes=\"1 0 0 0 1 2\" mode=\"track\"/>\n",
        "    </body>\n",
        "  </worldbody>\n",
        "</mujoco>\n",
        "\"\"\"\n",
        "model = mujoco.MjModel.from_xml_string(free_body_MJCF)\n",
        "renderer = mujoco.Renderer(model, 400, 600)\n",
        "data = mujoco.MjData(model)\n",
        "mujoco.mj_forward(model, data)\n",
        "renderer.update_scene(data, \"fixed\")\n",
        "media.show_image(renderer.render())"
      ]
    },
    {
      "cell_type": "markdown",
      "metadata": {
        "id": "Z2amdQCn8REu"
      },
      "source": [
        "Let render this body rolling on the floor, in slow-motion, while visualizing contact points and forces:"
      ]
    },
    {
      "cell_type": "code",
      "execution_count": null,
      "metadata": {
        "id": "HlRhFs_d3WLP"
      },
      "outputs": [],
      "source": [
        "n_frames = 200\n",
        "height = 240\n",
        "width = 320\n",
        "frames = []\n",
        "renderer = mujoco.Renderer(model, height, width)\n",
        "\n",
        "# visualize contact frames and forces, make body transparent\n",
        "options = mujoco.MjvOption()\n",
        "mujoco.mjv_defaultOption(options)\n",
        "options.flags[mujoco.mjtVisFlag.mjVIS_CONTACTPOINT] = True\n",
        "options.flags[mujoco.mjtVisFlag.mjVIS_CONTACTFORCE] = True\n",
        "options.flags[mujoco.mjtVisFlag.mjVIS_TRANSPARENT] = True\n",
        "\n",
        "# tweak scales of contact visualization elements\n",
        "model.vis.scale.contactwidth = 0.1\n",
        "model.vis.scale.contactheight = 0.03\n",
        "model.vis.scale.forcewidth = 0.05\n",
        "model.vis.map.force = 0.3\n",
        "\n",
        "# random initial rotational velocity:\n",
        "mujoco.mj_resetData(model, data)\n",
        "data.qvel[3:6] = 5*np.random.randn(3)\n",
        "\n",
        "# simulate and render\n",
        "for i in range(n_frames):\n",
        "  while data.time < i/120.0: #1/4x real time\n",
        "    mujoco.mj_step(model, data)\n",
        "  renderer.update_scene(data, \"track\", options)\n",
        "  frame = renderer.render()\n",
        "  frames.append(frame.copy())\n",
        "\n",
        "# show video\n",
        "media.show_video(frames, fps=30)"
      ]
    },
    {
      "cell_type": "markdown",
      "metadata": {
        "id": "_181TbtVSMBl"
      },
      "source": [
        "## Analysis of contact forces\n",
        "\n",
        "Let's rerun the above simulation (with a different random initial condition) and\n",
        "plot some values related to the contacts"
      ]
    },
    {
      "cell_type": "code",
      "execution_count": null,
      "metadata": {
        "id": "BMqyWeHki8Eg"
      },
      "outputs": [],
      "source": [
        "n_steps = 499\n",
        "\n",
        "# allocate\n",
        "sim_time = np.zeros(n_steps)\n",
        "ncon = np.zeros(n_steps)\n",
        "force = np.zeros((n_steps,3))\n",
        "velocity = np.zeros((n_steps, model.nv))\n",
        "penetration = np.zeros(n_steps)\n",
        "acceleration = np.zeros((n_steps, model.nv))\n",
        "forcetorque = np.zeros(6)\n",
        "\n",
        "# random initial rotational velocity:\n",
        "mujoco.mj_resetData(model, data)\n",
        "data.qvel[3:6] = 2*np.random.randn(3)\n",
        "\n",
        "# simulate and save data\n",
        "for i in range(n_steps):\n",
        "  mujoco.mj_step(model, data)\n",
        "  sim_time[i] = data.time\n",
        "  ncon[i] = data.ncon\n",
        "  velocity[i] = data.qvel[:]\n",
        "  acceleration[i] = data.qacc[:]\n",
        "  # iterate over active contacts, save force and distance\n",
        "  for j,c in enumerate(data.contact):\n",
        "    mujoco.mj_contactForce(model, data, j, forcetorque)\n",
        "    force[i] += forcetorque[0:3]\n",
        "    penetration[i] = min(penetration[i], c.dist)\n",
        "  # we could also do\n",
        "  # force[i] += data.qfrc_constraint[0:3]\n",
        "  # do you see why?\n",
        "\n",
        "# plot\n",
        "_, ax = plt.subplots(3, 2, sharex=True, figsize=(10, 10))\n",
        "\n",
        "lines = ax[0,0].plot(sim_time, force)\n",
        "ax[0,0].set_title('contact force')\n",
        "ax[0,0].set_ylabel('Newton')\n",
        "ax[0,0].legend(iter(lines), ('normal z', 'friction x', 'friction y'));\n",
        "\n",
        "ax[1,0].plot(sim_time, acceleration)\n",
        "ax[1,0].set_title('acceleration')\n",
        "ax[1,0].set_ylabel('(meter,radian)/s/s')\n",
        "\n",
        "ax[2,0].plot(sim_time, velocity)\n",
        "ax[2,0].set_title('velocity')\n",
        "ax[2,0].set_ylabel('(meter,radian)/s')\n",
        "ax[2,0].set_xlabel('second')\n",
        "\n",
        "ax[0,1].plot(sim_time, ncon)\n",
        "ax[0,1].set_title('number of contacts')\n",
        "ax[0,1].set_yticks(range(6))\n",
        "\n",
        "ax[1,1].plot(sim_time, force[:,0])\n",
        "ax[1,1].set_yscale('log')\n",
        "ax[1,1].set_title('normal (z) force - log scale')\n",
        "ax[1,1].set_ylabel('Newton')\n",
        "z_gravity = -model.opt.gravity[2]\n",
        "mg = model.body(\"box_and_sphere\").mass[0] * z_gravity\n",
        "mg_line = ax[1,1].plot(sim_time, np.ones(n_steps)*mg, label='m*g', linewidth=1)\n",
        "ax[1,1].legend()\n",
        "\n",
        "ax[2,1].plot(sim_time, 1000*penetration)\n",
        "ax[2,1].set_title('penetration depth')\n",
        "ax[2,1].set_ylabel('millimeter')\n",
        "ax[2,1].set_xlabel('second')\n",
        "\n",
        "plt.tight_layout()"
      ]
    },
    {
      "cell_type": "markdown",
      "metadata": {
        "id": "zV5PkYzFXu42"
      },
      "source": [
        "## Friction\n",
        "\n",
        "Let's see the effect of changing friction values"
      ]
    },
    {
      "cell_type": "code",
      "execution_count": null,
      "metadata": {
        "id": "2R_gKoYyXwda"
      },
      "outputs": [],
      "source": [
        "MJCF = \"\"\"\n",
        "<mujoco>\n",
        "  <asset>\n",
        "    <texture name=\"grid\" type=\"2d\" builtin=\"checker\" rgb1=\".1 .2 .3\"\n",
        "     rgb2=\".2 .3 .4\" width=\"300\" height=\"300\" mark=\"none\"/>\n",
        "    <material name=\"grid\" texture=\"grid\" texrepeat=\"6 6\"\n",
        "     texuniform=\"true\" reflectance=\".2\"/>\n",
        "     <material name=\"wall\" rgba='.5 .5 .5 1'/>\n",
        "  </asset>\n",
        "\n",
        "  <default>\n",
        "    <geom type=\"box\" size=\".05 .05 .05\" />\n",
        "    <joint type=\"free\"/>\n",
        "  </default>\n",
        "\n",
        "  <worldbody>\n",
        "    <light name=\"light\" pos=\"-.2 0 1\"/>\n",
        "    <geom name=\"ground\" type=\"plane\" size=\".5 .5 10\" material=\"grid\"\n",
        "     zaxis=\"-.3 0 1\" friction=\".1\"/> \n",
        "    <camera name=\"y\" pos=\"-.1 -.6 .3\" xyaxes=\"1 0 0 0 1 2\"/>\n",
        "    <body pos=\"0 0 .1\">\n",
        "      <joint/>\n",
        "      <geom/>\n",
        "    </body>\n",
        "    <body pos=\"0 .2 .1\">\n",
        "      <joint/>\n",
        "      <geom friction=\".33\"/>\n",
        "    </body>\n",
        "  </worldbody>\n",
        "\n",
        "</mujoco>\n",
        "\"\"\"\n",
        "n_frames = 60\n",
        "height = 300\n",
        "width = 300\n",
        "frames = []\n",
        "\n",
        "# load\n",
        "model = mujoco.MjModel.from_xml_string(MJCF)\n",
        "data = mujoco.MjData(model)\n",
        "renderer = mujoco.Renderer(model, height, width)\n",
        "\n",
        "# simulate and render\n",
        "mujoco.mj_resetData(model, data)\n",
        "for i in range(n_frames):\n",
        "  while data.time < i/30.0:\n",
        "    mujoco.mj_step(model, data)\n",
        "  renderer.update_scene(data, \"y\")\n",
        "  frame = renderer.render()\n",
        "  frames.append(frame.copy())\n",
        "media.show_video(frames, fps=30)"
      ]
    },
    {
      "cell_type": "markdown",
      "metadata": {
        "id": "ArmmaPqGP6W7"
      },
      "source": [
        "# Tendons, actuators and sensors"
      ]
    },
    {
      "cell_type": "code",
      "execution_count": null,
      "metadata": {
        "id": "VJz84c97c8Df"
      },
      "outputs": [],
      "source": [
        "MJCF = \"\"\"\n",
        "<mujoco>\n",
        "  <asset>\n",
        "    <texture name=\"grid\" type=\"2d\" builtin=\"checker\" rgb1=\".1 .2 .3\"\n",
        "     rgb2=\".2 .3 .4\" width=\"300\" height=\"300\" mark=\"none\"/>\n",
        "    <material name=\"grid\" texture=\"grid\" texrepeat=\"1 1\"\n",
        "     texuniform=\"true\" reflectance=\".2\"/>\n",
        "  </asset>\n",
        "\n",
        "  <worldbody>\n",
        "    <light name=\"light\" pos=\"0 0 1\"/>\n",
        "    <geom name=\"floor\" type=\"plane\" pos=\"0 0 -.5\" size=\"2 2 .1\" material=\"grid\"/>\n",
        "    <site name=\"anchor\" pos=\"0 0 .3\" size=\".01\"/>\n",
        "    <camera name=\"fixed\" pos=\"0 -1.3 .5\" xyaxes=\"1 0 0 0 1 2\"/>\n",
        "\n",
        "    <geom name=\"pole\" type=\"cylinder\" fromto=\".3 0 -.5 .3 0 -.1\" size=\".04\"/>\n",
        "    <body name=\"bat\" pos=\".3 0 -.1\">\n",
        "      <joint name=\"swing\" type=\"hinge\" damping=\"1\" axis=\"0 0 1\"/>\n",
        "      <geom name=\"bat\" type=\"capsule\" fromto=\"0 0 .04 0 -.3 .04\"\n",
        "       size=\".04\" rgba=\"0 0 1 1\"/>\n",
        "    </body>\n",
        "\n",
        "    <body name=\"box_and_sphere\" pos=\"0 0 0\">\n",
        "      <joint name=\"free\" type=\"free\"/>\n",
        "      <geom name=\"red_box\" type=\"box\" size=\".1 .1 .1\" rgba=\"1 0 0 1\"/>\n",
        "      <geom name=\"green_sphere\"  size=\".06\" pos=\".1 .1 .1\" rgba=\"0 1 0 1\"/>\n",
        "      <site name=\"hook\" pos=\"-.1 -.1 -.1\" size=\".01\"/>\n",
        "      <site name=\"IMU\"/>\n",
        "    </body>\n",
        "  </worldbody>\n",
        "\n",
        "  <tendon>\n",
        "    <spatial name=\"wire\" limited=\"true\" range=\"0 0.35\" width=\"0.003\">\n",
        "      <site site=\"anchor\"/>\n",
        "      <site site=\"hook\"/>\n",
        "    </spatial>\n",
        "  </tendon>\n",
        "\n",
        "  <actuator>\n",
        "    <motor name=\"my_motor\" joint=\"swing\" gear=\"1\"/>\n",
        "  </actuator>\n",
        "\n",
        "  <sensor>\n",
        "    <accelerometer name=\"accelerometer\" site=\"IMU\"/>\n",
        "  </sensor>\n",
        "</mujoco>\n",
        "\"\"\"\n",
        "model = mujoco.MjModel.from_xml_string(MJCF)\n",
        "renderer = mujoco.Renderer(model, 480, 480)\n",
        "data = mujoco.MjData(model)\n",
        "mujoco.mj_forward(model, data)\n",
        "renderer.update_scene(data, \"fixed\")\n",
        "media.show_image(renderer.render())\n"
      ]
    },
    {
      "cell_type": "markdown",
      "metadata": {
        "id": "u8z2vrOr_RVD"
      },
      "source": [
        "actuated bat and passive \"piñata\":"
      ]
    },
    {
      "cell_type": "code",
      "execution_count": null,
      "metadata": {
        "id": "z-zoBCuBv2Xi"
      },
      "outputs": [],
      "source": [
        "n_frames = 180\n",
        "height = 240\n",
        "width = 320\n",
        "frames = []\n",
        "fps = 60.0\n",
        "times = []\n",
        "sensordata = []\n",
        "\n",
        "renderer = mujoco.Renderer(model, height, width)\n",
        "\n",
        "# constant actuator signal\n",
        "mujoco.mj_resetData(model, data)\n",
        "data.ctrl = 20\n",
        "\n",
        "# simulate and render\n",
        "for i in range(n_frames):\n",
        "  while data.time < i/fps:\n",
        "    mujoco.mj_step(model, data)\n",
        "    times.append(data.time)\n",
        "    sensordata.append(data.sensor('accelerometer').data.copy())\n",
        "  renderer.update_scene(data, \"fixed\")\n",
        "  frame = renderer.render()\n",
        "  frames.append(frame.copy())\n",
        "\n",
        "media.show_video(frames, fps=fps)"
      ]
    },
    {
      "cell_type": "markdown",
      "metadata": {
        "id": "gwHMy_iRA7Jh"
      },
      "source": [
        "Let's plot the values measured by our accelometer sensor:"
      ]
    },
    {
      "cell_type": "code",
      "execution_count": null,
      "metadata": {
        "id": "uy4wSEMAAJgn"
      },
      "outputs": [],
      "source": [
        "ax = plt.gca()\n",
        "\n",
        "ax.plot(np.asarray(times), np.asarray(sensordata), label='timestep = {:2.2g}ms'.format(1000*dt))\n",
        "\n",
        "# finalize plot\n",
        "ax.set_title('Accelerometer values')\n",
        "ax.set_ylabel('meter/second^2')\n",
        "ax.set_xlabel('second')\n",
        "ax.legend(frameon=True, loc='lower right');\n",
        "plt.tight_layout()"
      ]
    },
    {
      "cell_type": "markdown",
      "metadata": {
        "id": "0YKSTtJ_BQ7x"
      },
      "source": [
        "Note how the moments when the body is hit by the bat are clearly visible in the accelerometer measurements."
      ]
    },
    {
      "cell_type": "markdown",
      "metadata": {
        "id": "1kOs1wTc7uCZ"
      },
      "source": [
        "# Advanced rendering\n",
        "\n",
        "Like joint visualization, additional rendering options are exposed as parameters to the `render` method.\n",
        "\n",
        "Let's bring back our first model:"
      ]
    },
    {
      "cell_type": "code",
      "execution_count": null,
      "metadata": {
        "id": "mTDgsk2xcgwH"
      },
      "outputs": [],
      "source": [
        "xml = \"\"\"\n",
        "<mujoco>\n",
        "  <worldbody>\n",
        "    <light name=\"top\" pos=\"0 0 1\"/>\n",
        "    <body name=\"box_and_sphere\" euler=\"0 0 -30\">\n",
        "      <joint name=\"swing\" type=\"hinge\" axis=\"1 -1 0\" pos=\"-.2 -.2 -.2\"/>\n",
        "      <geom name=\"red_box\" type=\"box\" size=\".2 .2 .2\" rgba=\"1 0 0 1\"/>\n",
        "      <geom name=\"green_sphere\" pos=\".2 .2 .2\" size=\".1\" rgba=\"0 1 0 1\"/>\n",
        "    </body>\n",
        "  </worldbody>\n",
        "</mujoco>\n",
        "\"\"\"\n",
        "model = mujoco.MjModel.from_xml_string(xml)\n",
        "renderer = mujoco.Renderer(model)\n",
        "data = mujoco.MjData(model)\n",
        "\n",
        "mujoco.mj_forward(model, data)\n",
        "renderer.update_scene(data)\n",
        "media.show_image(renderer.render())"
      ]
    },
    {
      "cell_type": "code",
      "execution_count": null,
      "metadata": {
        "id": "VePXamL_6XUc"
      },
      "outputs": [],
      "source": [
        "#@title Enable transparency and frame visualization\n",
        "\n",
        "scene_option.frame = mujoco.mjtFrame.mjFRAME_GEOM\n",
        "scene_option.flags[mujoco.mjtVisFlag.mjVIS_TRANSPARENT] = True\n",
        "renderer.update_scene(data, scene_option=scene_option)\n",
        "frame = renderer.render()\n",
        "media.show_image(frame)"
      ]
    },
    {
      "cell_type": "code",
      "execution_count": null,
      "metadata": {
        "id": "PVcpcvww9lZ8"
      },
      "outputs": [],
      "source": [
        "#@title Depth rendering\n",
        "\n",
        "# update renderer to render depth\n",
        "renderer.enable_depth_rendering()\n",
        "\n",
        "# reset the scene\n",
        "renderer.update_scene(data)\n",
        "\n",
        "# depth is a float array, in meters.\n",
        "depth = renderer.render()\n",
        "\n",
        "# Shift nearest values to the origin.\n",
        "depth -= depth.min()\n",
        "# Scale by 2 mean distances of near rays.\n",
        "depth /= 2*depth[depth <= 1].mean()\n",
        "# Scale to [0, 255]\n",
        "pixels = 255*np.clip(depth, 0, 1)\n",
        "\n",
        "media.show_image(pixels.astype(np.uint8))\n",
        "\n",
        "renderer.disable_depth_rendering()"
      ]
    },
    {
      "cell_type": "code",
      "execution_count": null,
      "metadata": {
        "id": "PNwiIrgpx7T8"
      },
      "outputs": [],
      "source": [
        "#@title Segmentation rendering\n",
        "\n",
        "# update renderer to render segmentation\n",
        "renderer.enable_segmentation_rendering()\n",
        "\n",
        "# reset the scene\n",
        "renderer.update_scene(data)\n",
        "\n",
        "seg = renderer.render()\n",
        "\n",
        "# Display the contents of the first channel, which contains object\n",
        "# IDs. The second channel, seg[:, :, 1], contains object types.\n",
        "geom_ids = seg[:, :, 0]\n",
        "# Infinity is mapped to -1\n",
        "geom_ids = geom_ids.astype(np.float64) + 1\n",
        "# Scale to [0, 1]\n",
        "geom_ids = geom_ids / geom_ids.max()\n",
        "pixels = 255*geom_ids\n",
        "media.show_image(pixels.astype(np.uint8))\n",
        "\n",
        "renderer.disable_segmentation_rendering()"
      ]
    },
    {
      "cell_type": "markdown",
      "metadata": {
        "id": "wo72mo0mGIXr"
      },
      "source": [
        "## The camera matrix\n",
        "\n",
        "For a description of the camera matrix see the article [Camera matrix](https://en.wikipedia.org/wiki/Camera_matrix) on Wikipedia."
      ]
    },
    {
      "cell_type": "code",
      "execution_count": null,
      "metadata": {
        "id": "sDYwClpxaxab"
      },
      "outputs": [],
      "source": [
        "def compute_camera_matrix(renderer, data):\n",
        "  \"\"\"Returns the 3x4 camera matrix.\"\"\"\n",
        "  # If the camera is a 'free' camera, we get its position and orientation\n",
        "  # from the scene data structure. It is a stereo camera, so we average over\n",
        "  # the left and right channels. Note: we call `self.update()` in order to\n",
        "  # ensure that the contents of `scene.camera` are correct.\n",
        "  renderer.update_scene(data)\n",
        "  pos = np.mean([camera.pos for camera in renderer.scene.camera], axis=0)\n",
        "  z = -np.mean([camera.forward for camera in renderer.scene.camera], axis=0)\n",
        "  y = np.mean([camera.up for camera in renderer.scene.camera], axis=0)\n",
        "  rot = np.vstack((np.cross(y, z), y, z))\n",
        "  fov = model.vis.global_.fovy\n",
        "\n",
        "  # Translation matrix (4x4).\n",
        "  translation = np.eye(4)\n",
        "  translation[0:3, 3] = -pos\n",
        "\n",
        "  # Rotation matrix (4x4).\n",
        "  rotation = np.eye(4)\n",
        "  rotation[0:3, 0:3] = rot\n",
        "\n",
        "  # Focal transformation matrix (3x4).\n",
        "  focal_scaling = (1./np.tan(np.deg2rad(fov)/2)) * renderer.height / 2.0\n",
        "  focal = np.diag([-focal_scaling, focal_scaling, 1.0, 0])[0:3, :]\n",
        "\n",
        "  # Image matrix (3x3).\n",
        "  image = np.eye(3)\n",
        "  image[0, 2] = (renderer.width - 1) / 2.0\n",
        "  image[1, 2] = (renderer.height - 1) / 2.0\n",
        "  return image @ focal @ rotation @ translation"
      ]
    },
    {
      "cell_type": "markdown",
      "metadata": {
        "id": "Bs89vS0wLoU0"
      },
      "source": [
        "Let's use the camera matrix to project from world to camera coordinates:"
      ]
    },
    {
      "cell_type": "code",
      "execution_count": null,
      "metadata": {
        "id": "My0N4_7PDJ_q"
      },
      "outputs": [],
      "source": [
        "# reset the scene\n",
        "renderer.update_scene(data)\n",
        "\n",
        "\n",
        "# Get the world coordinates of the box corners\n",
        "box_pos = data.geom_xpos[model.geom('red_box').id]\n",
        "box_mat = data.geom_xmat[model.geom('red_box').id].reshape(3, 3)\n",
        "box_size = model.geom_size[model.geom('red_box').id]\n",
        "offsets = np.array([-1, 1]) * box_size[:, None]\n",
        "xyz_local = np.stack(list(itertools.product(*offsets))).T\n",
        "xyz_global = box_pos[:, None] + box_mat @ xyz_local\n",
        "\n",
        "# Camera matrices multiply homogenous [x, y, z, 1] vectors.\n",
        "corners_homogeneous = np.ones((4, xyz_global.shape[1]), dtype=float)\n",
        "corners_homogeneous[:3, :] = xyz_global\n",
        "\n",
        "# Get the camera matrix.\n",
        "m = compute_camera_matrix(renderer, data)\n",
        "\n",
        "# Project world coordinates into pixel space. See:\n",
        "# https://en.wikipedia.org/wiki/3D_projection#Mathematical_formula\n",
        "xs, ys, s = m @ corners_homogeneous\n",
        "# x and y are in the pixel coordinate system.\n",
        "x = xs / s\n",
        "y = ys / s\n",
        "\n",
        "# Render the camera view and overlay the projected corner coordinates.\n",
        "pixels = renderer.render()\n",
        "fig, ax = plt.subplots(1, 1)\n",
        "ax.imshow(pixels)\n",
        "ax.plot(x, y, '+', c='w')\n",
        "ax.set_axis_off()"
      ]
    },
    {
      "cell_type": "markdown",
      "metadata": {
        "id": "AGm5-e0sHEAF"
      },
      "source": [
        "## Modifying the scene\n",
        "\n",
        "Let's add some arbitrary geometry to the `mjvScene`."
      ]
    },
    {
      "cell_type": "code",
      "execution_count": null,
      "metadata": {
        "id": "Z6NDYJ8IOVt7"
      },
      "outputs": [],
      "source": [
        "def get_geom_speed(model, data, geom_name):\n",
        "  \"\"\"Returns the speed of a geom.\"\"\"\n",
        "  geom_vel = np.zeros(6)\n",
        "  geom_type = mujoco.mjtObj.mjOBJ_GEOM\n",
        "  geom_id = data.geom(geom_name).id\n",
        "  mujoco.mj_objectVelocity(model, data, geom_type, geom_id, geom_vel, 0)\n",
        "  return np.linalg.norm(geom_vel)\n",
        "\n",
        "def add_visual_capsule(scene, point1, point2, radius, rgba):\n",
        "  \"\"\"Adds one capsule to an mjvScene.\"\"\"\n",
        "  if scene.ngeom >= scene.maxgeom:\n",
        "    return\n",
        "  scene.ngeom += 1  # increment ngeom\n",
        "  # initialise a new capsule, add it to the scene using mjv_makeConnector\n",
        "  mujoco.mjv_initGeom(scene.geoms[scene.ngeom-1],\n",
        "                      mujoco.mjtGeom.mjGEOM_CAPSULE, np.zeros(3),\n",
        "                      np.zeros(3), np.zeros(9), rgba.astype(np.float32))\n",
        "  mujoco.mjv_makeConnector(scene.geoms[scene.ngeom-1],\n",
        "                           mujoco.mjtGeom.mjGEOM_CAPSULE, radius,\n",
        "                           point1[0], point1[1], point1[2],\n",
        "                           point2[0], point2[1], point2[2])\n",
        "\n",
        " # traces of time, position and speed\n",
        "times = []\n",
        "positions = []\n",
        "speeds = []\n",
        "offset = model.jnt_axis[0]/8  # offset along the joint axis\n",
        "\n",
        "def modify_scene(scn):\n",
        "  \"\"\"Draw position trace, speed modifies width and colors.\"\"\"\n",
        "  if len(positions) > 1:\n",
        "    for i in range(len(positions)-1):\n",
        "      rgba=np.array((np.clip(speeds[i]/10, 0, 1),\n",
        "                     np.clip(1-speeds[i]/10, 0, 1),\n",
        "                     .5, 1.))\n",
        "      radius=.003*(1+speeds[i])\n",
        "      point1 = positions[i] + offset*times[i]\n",
        "      point2 = positions[i+1] + offset*times[i+1]\n",
        "      add_visual_capsule(scn, point1, point2, radius, rgba)\n",
        "\n",
        "duration = 6    # (seconds)\n",
        "framerate = 30  # (Hz)\n",
        "\n",
        "# Simulate and display video.\n",
        "frames = []\n",
        "\n",
        "# Reset state and time.\n",
        "mujoco.mj_resetData(model, data)\n",
        "mujoco.mj_forward(model, data)\n",
        "\n",
        "while data.time < duration:\n",
        "  # append data to the traces\n",
        "  positions.append(data.geom_xpos[data.geom(\"green_sphere\").id].copy())\n",
        "  times.append(data.time)\n",
        "  speeds.append(get_geom_speed(model, data, \"green_sphere\"))\n",
        "  mujoco.mj_step(model, data)\n",
        "  if len(frames) < data.time * framerate:\n",
        "    renderer.update_scene(data)\n",
        "    modify_scene(renderer.scene)\n",
        "    pixels = renderer.render().copy()\n",
        "    frames.append(pixels)\n",
        "media.show_video(frames, fps=framerate)"
      ]
    }
  ],
  "metadata": {
    "accelerator": "GPU",
    "colab": {
      "collapsed_sections": [
        "-re3Szx-1Ias"
      ],
      "private_outputs": true,
      "provenance": [],
      "toc_visible": true
    },
    "gpuClass": "premium",
    "kernelspec": {
      "display_name": "ddpgtf",
      "language": "python",
      "name": "python3"
    },
    "language_info": {
      "codemirror_mode": {
        "name": "ipython",
        "version": 3
      },
      "file_extension": ".py",
      "mimetype": "text/x-python",
      "name": "python",
      "nbconvert_exporter": "python",
      "pygments_lexer": "ipython3",
      "version": "3.10.6 (main, Nov 14 2022, 16:10:14) [GCC 11.3.0]"
    },
    "vscode": {
      "interpreter": {
        "hash": "5072a1f041c12aba0543d36177add0bbaf21907db4ad2d500b8fcc932f03d9ec"
      }
    }
  },
  "nbformat": 4,
  "nbformat_minor": 0
}
